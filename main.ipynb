{
 "cells": [
  {
   "cell_type": "code",
   "execution_count": 63,
   "id": "e1409916-c9ab-4cf5-820b-7541196b5076",
   "metadata": {},
   "outputs": [],
   "source": [
    "# working with numpy libraries\n",
    "import numpy as np\n",
    "import pandas as pd"
   ]
  },
  {
   "cell_type": "code",
   "execution_count": 64,
   "id": "adb81663-e4f4-4b22-9cce-c94be7e2d44d",
   "metadata": {},
   "outputs": [
    {
     "name": "stdout",
     "output_type": "stream",
     "text": [
      "Array: [10 20 30 40 50]\n",
      "Number Average: 30.0\n",
      "Total number: 150\n",
      "Square of the element: [ 100  400  900 1600 2500]\n"
     ]
    }
   ],
   "source": [
    "arr = np.array([10, 20, 30, 40, 50])\n",
    "print(\"Array:\", arr)\n",
    "print(\"Number Average:\", arr.mean())\n",
    "print(\"Total number:\", arr.sum())\n",
    "print(\"Square of the element:\", arr ** 2)"
   ]
  },
  {
   "cell_type": "code",
   "execution_count": 65,
   "id": "56e4620f-498a-4aa0-bc08-173512e9e31b",
   "metadata": {},
   "outputs": [
    {
     "name": "stdout",
     "output_type": "stream",
     "text": [
      "\n",
      "Student Scores\n",
      " [[78 85 90]\n",
      " [88 92 80]\n",
      " [70 75 85]\n",
      " [95 90 88]\n",
      " [60 65 70]\n",
      " [85 80 82]\n",
      " [72 78 88]\n",
      " [90 95 92]]\n",
      "\n",
      "Average score per student\n",
      " [84.33333333 86.66666667 76.66666667 91.         65.         82.33333333\n",
      " 79.33333333 92.33333333]\n",
      "\n",
      "Average score per subject\n",
      " [79.75  82.5   84.375]\n",
      "\n",
      "Highest score per subject\n",
      " [95 95 92]\n"
     ]
    }
   ],
   "source": [
    "# woking with students score using numpy array\n",
    "scores = np.array([\n",
    "    [78, 85, 90],\n",
    "    [88, 92, 80],\n",
    "    [70, 75, 85],\n",
    "    [95, 90, 88],\n",
    "    [60, 65, 70],\n",
    "    [85, 80, 82],\n",
    "    [72, 78, 88],\n",
    "    [90, 95, 92]\n",
    "])\n",
    "\n",
    "print(\"\\nStudent Scores\\n\", scores)\n",
    "\n",
    "#Average score per student\n",
    "print(\"\\nAverage score per student\\n\", scores.mean(axis=1))\n",
    "\n",
    "#Average score per subject\n",
    "print(\"\\nAverage score per subject\\n\", scores.mean(axis=0))\n",
    "\n",
    "#Highest score per subject\n",
    "highest_score = scores.max(axis=0)\n",
    "print(\"\\nHighest score per subject\\n\", highest_score)"
   ]
  },
  {
   "cell_type": "code",
   "execution_count": 66,
   "id": "643f437d-efb8-46a8-ba4c-ecc8aaa8236e",
   "metadata": {},
   "outputs": [
    {
     "name": "stdout",
     "output_type": "stream",
     "text": [
      "\n",
      "Student science above 90\n",
      " [8]\n"
     ]
    }
   ],
   "source": [
    "science_score = scores[:, 2]\n",
    "score_above_90 = np.where(science_score > 90)[0]\n",
    "print(\"\\nStudent science above 90\\n\", score_above_90 + 1)"
   ]
  },
  {
   "cell_type": "code",
   "execution_count": 76,
   "id": "70f5eed7-1a4a-42bd-a654-eb214976a569",
   "metadata": {},
   "outputs": [
    {
     "name": "stdout",
     "output_type": "stream",
     "text": [
      "\\DataFrame\n",
      "       Name Department   Salary   Age\n",
      "0    Alice         HR  50000.0  25.0\n",
      "1      Bob         IT  60000.0   NaN\n",
      "2  Charlie         IT  55000.0  28.0\n",
      "3    David    Finance  65000.0  40.0\n",
      "4      Eve         HR      NaN  35.0\n"
     ]
    }
   ],
   "source": [
    "# working pandas dataframe\n",
    "#sample dataset\n",
    "data = {\n",
    "    \"Name\": [\"Alice\", \"Bob\", \"Charlie\", \"David\", \"Eve\"],\n",
    "    \"Department\": [\"HR\", \"IT\", \"IT\", \"Finance\", \"HR\"],\n",
    "    \"Salary\": [50000, 60000, 55000, 65000, np.nan],\n",
    "    \"Age\": [25, np.nan, 28, 40, 35]\n",
    "}\n",
    "\n",
    "df = pd.DataFrame(data)\n",
    "print(\"\\DataFrame\\n\", df)"
   ]
  },
  {
   "cell_type": "code",
   "execution_count": 77,
   "id": "749609be-2471-4576-ac79-7931152be667",
   "metadata": {},
   "outputs": [
    {
     "name": "stdout",
     "output_type": "stream",
     "text": [
      "    Name Department   Salary   Age\n",
      "3  David    Finance  65000.0  40.0\n",
      "4    Eve         HR      NaN  35.0\n"
     ]
    }
   ],
   "source": [
    "#filter employee that's greater 30\n",
    "filter_df = df[df['Age'] > 30]\n",
    "print(filter_df)"
   ]
  },
  {
   "cell_type": "code",
   "execution_count": 78,
   "id": "8ded7ff9-5728-4975-aa20-f2f0c79c005c",
   "metadata": {},
   "outputs": [
    {
     "name": "stdout",
     "output_type": "stream",
     "text": [
      "\\Average salary by department\n",
      " Department\n",
      "Finance    65000.0\n",
      "HR         50000.0\n",
      "IT         57500.0\n",
      "Name: Salary, dtype: float64\n"
     ]
    }
   ],
   "source": [
    "# average salary by department\n",
    "salary_grouped = df.groupby('Department')['Salary'].mean()\n",
    "print(\"\\Average salary by department\\n\", salary_grouped)"
   ]
  },
  {
   "cell_type": "code",
   "execution_count": 79,
   "id": "363a6db3-c571-4cac-be09-a2e0ab48f658",
   "metadata": {},
   "outputs": [
    {
     "data": {
      "text/html": [
       "<div>\n",
       "<style scoped>\n",
       "    .dataframe tbody tr th:only-of-type {\n",
       "        vertical-align: middle;\n",
       "    }\n",
       "\n",
       "    .dataframe tbody tr th {\n",
       "        vertical-align: top;\n",
       "    }\n",
       "\n",
       "    .dataframe thead th {\n",
       "        text-align: right;\n",
       "    }\n",
       "</style>\n",
       "<table border=\"1\" class=\"dataframe\">\n",
       "  <thead>\n",
       "    <tr style=\"text-align: right;\">\n",
       "      <th></th>\n",
       "      <th>Department</th>\n",
       "      <th>Shift_Hrs</th>\n",
       "    </tr>\n",
       "  </thead>\n",
       "  <tbody>\n",
       "    <tr>\n",
       "      <th>0</th>\n",
       "      <td>HR</td>\n",
       "      <td>5</td>\n",
       "    </tr>\n",
       "    <tr>\n",
       "      <th>1</th>\n",
       "      <td>IT</td>\n",
       "      <td>4</td>\n",
       "    </tr>\n",
       "    <tr>\n",
       "      <th>2</th>\n",
       "      <td>Finance</td>\n",
       "      <td>3</td>\n",
       "    </tr>\n",
       "  </tbody>\n",
       "</table>\n",
       "</div>"
      ],
      "text/plain": [
       "  Department  Shift_Hrs\n",
       "0         HR          5\n",
       "1         IT          4\n",
       "2    Finance          3"
      ]
     },
     "execution_count": 79,
     "metadata": {},
     "output_type": "execute_result"
    }
   ],
   "source": [
    "#working with merging data\n",
    "salary_bonus = pd.DataFrame({\n",
    "    \"Department\": [\"HR\", \"IT\", \"Finance\"],\n",
    "    \"Salary_bonus\": [5000, 4000, 3000]\n",
    "})\n",
    "\n",
    "shift_hrs = pd.DataFrame({\n",
    "    \"Department\": [\"HR\", \"IT\", \"Finance\"],\n",
    "    \"Shift_Hrs\": [5, 4, 3]\n",
    "})\n",
    "\n",
    "\n",
    "salary_bonus\n",
    "shift_hrs"
   ]
  },
  {
   "cell_type": "code",
   "execution_count": 80,
   "id": "f93d636e-cd22-4238-ad75-d6ffb7421046",
   "metadata": {},
   "outputs": [
    {
     "data": {
      "text/html": [
       "<div>\n",
       "<style scoped>\n",
       "    .dataframe tbody tr th:only-of-type {\n",
       "        vertical-align: middle;\n",
       "    }\n",
       "\n",
       "    .dataframe tbody tr th {\n",
       "        vertical-align: top;\n",
       "    }\n",
       "\n",
       "    .dataframe thead th {\n",
       "        text-align: right;\n",
       "    }\n",
       "</style>\n",
       "<table border=\"1\" class=\"dataframe\">\n",
       "  <thead>\n",
       "    <tr style=\"text-align: right;\">\n",
       "      <th></th>\n",
       "      <th>Name</th>\n",
       "      <th>Department</th>\n",
       "      <th>Salary</th>\n",
       "      <th>Age</th>\n",
       "      <th>Salary_bonus</th>\n",
       "    </tr>\n",
       "  </thead>\n",
       "  <tbody>\n",
       "    <tr>\n",
       "      <th>0</th>\n",
       "      <td>Alice</td>\n",
       "      <td>HR</td>\n",
       "      <td>50000.0</td>\n",
       "      <td>25.0</td>\n",
       "      <td>5000</td>\n",
       "    </tr>\n",
       "    <tr>\n",
       "      <th>1</th>\n",
       "      <td>Bob</td>\n",
       "      <td>IT</td>\n",
       "      <td>60000.0</td>\n",
       "      <td>NaN</td>\n",
       "      <td>4000</td>\n",
       "    </tr>\n",
       "    <tr>\n",
       "      <th>2</th>\n",
       "      <td>Charlie</td>\n",
       "      <td>IT</td>\n",
       "      <td>55000.0</td>\n",
       "      <td>28.0</td>\n",
       "      <td>4000</td>\n",
       "    </tr>\n",
       "    <tr>\n",
       "      <th>3</th>\n",
       "      <td>David</td>\n",
       "      <td>Finance</td>\n",
       "      <td>65000.0</td>\n",
       "      <td>40.0</td>\n",
       "      <td>3000</td>\n",
       "    </tr>\n",
       "    <tr>\n",
       "      <th>4</th>\n",
       "      <td>Eve</td>\n",
       "      <td>HR</td>\n",
       "      <td>NaN</td>\n",
       "      <td>35.0</td>\n",
       "      <td>5000</td>\n",
       "    </tr>\n",
       "  </tbody>\n",
       "</table>\n",
       "</div>"
      ],
      "text/plain": [
       "      Name Department   Salary   Age  Salary_bonus\n",
       "0    Alice         HR  50000.0  25.0          5000\n",
       "1      Bob         IT  60000.0   NaN          4000\n",
       "2  Charlie         IT  55000.0  28.0          4000\n",
       "3    David    Finance  65000.0  40.0          3000\n",
       "4      Eve         HR      NaN  35.0          5000"
      ]
     },
     "execution_count": 80,
     "metadata": {},
     "output_type": "execute_result"
    }
   ],
   "source": [
    "df_2 = pd.merge(df, salary_bonus, on=\"Department\")\n",
    "df_2"
   ]
  },
  {
   "cell_type": "code",
   "execution_count": 81,
   "id": "f3ef7221-077e-40b4-8c77-d6a86e346326",
   "metadata": {},
   "outputs": [
    {
     "data": {
      "text/html": [
       "<div>\n",
       "<style scoped>\n",
       "    .dataframe tbody tr th:only-of-type {\n",
       "        vertical-align: middle;\n",
       "    }\n",
       "\n",
       "    .dataframe tbody tr th {\n",
       "        vertical-align: top;\n",
       "    }\n",
       "\n",
       "    .dataframe thead th {\n",
       "        text-align: right;\n",
       "    }\n",
       "</style>\n",
       "<table border=\"1\" class=\"dataframe\">\n",
       "  <thead>\n",
       "    <tr style=\"text-align: right;\">\n",
       "      <th></th>\n",
       "      <th>Name</th>\n",
       "      <th>Department</th>\n",
       "      <th>Salary</th>\n",
       "      <th>Age</th>\n",
       "      <th>Salary_bonus</th>\n",
       "      <th>Shift_Hrs</th>\n",
       "    </tr>\n",
       "  </thead>\n",
       "  <tbody>\n",
       "    <tr>\n",
       "      <th>0</th>\n",
       "      <td>Alice</td>\n",
       "      <td>HR</td>\n",
       "      <td>50000.0</td>\n",
       "      <td>25.0</td>\n",
       "      <td>5000</td>\n",
       "      <td>5</td>\n",
       "    </tr>\n",
       "    <tr>\n",
       "      <th>1</th>\n",
       "      <td>Bob</td>\n",
       "      <td>IT</td>\n",
       "      <td>60000.0</td>\n",
       "      <td>NaN</td>\n",
       "      <td>4000</td>\n",
       "      <td>4</td>\n",
       "    </tr>\n",
       "    <tr>\n",
       "      <th>2</th>\n",
       "      <td>Charlie</td>\n",
       "      <td>IT</td>\n",
       "      <td>55000.0</td>\n",
       "      <td>28.0</td>\n",
       "      <td>4000</td>\n",
       "      <td>4</td>\n",
       "    </tr>\n",
       "    <tr>\n",
       "      <th>3</th>\n",
       "      <td>David</td>\n",
       "      <td>Finance</td>\n",
       "      <td>65000.0</td>\n",
       "      <td>40.0</td>\n",
       "      <td>3000</td>\n",
       "      <td>3</td>\n",
       "    </tr>\n",
       "    <tr>\n",
       "      <th>4</th>\n",
       "      <td>Eve</td>\n",
       "      <td>HR</td>\n",
       "      <td>NaN</td>\n",
       "      <td>35.0</td>\n",
       "      <td>5000</td>\n",
       "      <td>5</td>\n",
       "    </tr>\n",
       "  </tbody>\n",
       "</table>\n",
       "</div>"
      ],
      "text/plain": [
       "      Name Department   Salary   Age  Salary_bonus  Shift_Hrs\n",
       "0    Alice         HR  50000.0  25.0          5000          5\n",
       "1      Bob         IT  60000.0   NaN          4000          4\n",
       "2  Charlie         IT  55000.0  28.0          4000          4\n",
       "3    David    Finance  65000.0  40.0          3000          3\n",
       "4      Eve         HR      NaN  35.0          5000          5"
      ]
     },
     "execution_count": 81,
     "metadata": {},
     "output_type": "execute_result"
    }
   ],
   "source": [
    "new_df = pd.merge(df_2, shift_hrs, on=\"Department\")\n",
    "new_df"
   ]
  },
  {
   "cell_type": "code",
   "execution_count": 82,
   "id": "ef0c8915-649c-494f-ab04-5f92326f485d",
   "metadata": {},
   "outputs": [
    {
     "name": "stdout",
     "output_type": "stream",
     "text": [
      "\\Detecting Missing value\n",
      "\n",
      "Missing value\n",
      " Name            0\n",
      "Department      0\n",
      "Salary          1\n",
      "Age             1\n",
      "Salary_bonus    0\n",
      "Shift_Hrs       0\n",
      "dtype: int64\n"
     ]
    }
   ],
   "source": [
    "print(\"\\Detecting Missing value\\n\")\n",
    "print(\"Missing value\\n\", new_df.isnull().sum())"
   ]
  },
  {
   "cell_type": "code",
   "execution_count": 83,
   "id": "f9c45689-a0fb-4d96-884a-1cb272ab8bdd",
   "metadata": {},
   "outputs": [
    {
     "name": "stderr",
     "output_type": "stream",
     "text": [
      "C:\\Users\\ola-dev\\AppData\\Local\\Temp\\ipykernel_16048\\3052670226.py:1: FutureWarning: A value is trying to be set on a copy of a DataFrame or Series through chained assignment using an inplace method.\n",
      "The behavior will change in pandas 3.0. This inplace method will never work because the intermediate object on which we are setting values always behaves as a copy.\n",
      "\n",
      "For example, when doing 'df[col].method(value, inplace=True)', try using 'df.method({col: value}, inplace=True)' or df[col] = df[col].method(value) instead, to perform the operation inplace on the original object.\n",
      "\n",
      "\n",
      "  new_df[\"Salary\"].fillna(new_df[\"Salary\"].mean(), inplace=True)\n"
     ]
    },
    {
     "data": {
      "text/html": [
       "<div>\n",
       "<style scoped>\n",
       "    .dataframe tbody tr th:only-of-type {\n",
       "        vertical-align: middle;\n",
       "    }\n",
       "\n",
       "    .dataframe tbody tr th {\n",
       "        vertical-align: top;\n",
       "    }\n",
       "\n",
       "    .dataframe thead th {\n",
       "        text-align: right;\n",
       "    }\n",
       "</style>\n",
       "<table border=\"1\" class=\"dataframe\">\n",
       "  <thead>\n",
       "    <tr style=\"text-align: right;\">\n",
       "      <th></th>\n",
       "      <th>Name</th>\n",
       "      <th>Department</th>\n",
       "      <th>Salary</th>\n",
       "      <th>Age</th>\n",
       "      <th>Salary_bonus</th>\n",
       "      <th>Shift_Hrs</th>\n",
       "    </tr>\n",
       "  </thead>\n",
       "  <tbody>\n",
       "    <tr>\n",
       "      <th>0</th>\n",
       "      <td>Alice</td>\n",
       "      <td>HR</td>\n",
       "      <td>50000.0</td>\n",
       "      <td>25.0</td>\n",
       "      <td>5000</td>\n",
       "      <td>5</td>\n",
       "    </tr>\n",
       "    <tr>\n",
       "      <th>1</th>\n",
       "      <td>Bob</td>\n",
       "      <td>IT</td>\n",
       "      <td>60000.0</td>\n",
       "      <td>NaN</td>\n",
       "      <td>4000</td>\n",
       "      <td>4</td>\n",
       "    </tr>\n",
       "    <tr>\n",
       "      <th>2</th>\n",
       "      <td>Charlie</td>\n",
       "      <td>IT</td>\n",
       "      <td>55000.0</td>\n",
       "      <td>28.0</td>\n",
       "      <td>4000</td>\n",
       "      <td>4</td>\n",
       "    </tr>\n",
       "    <tr>\n",
       "      <th>3</th>\n",
       "      <td>David</td>\n",
       "      <td>Finance</td>\n",
       "      <td>65000.0</td>\n",
       "      <td>40.0</td>\n",
       "      <td>3000</td>\n",
       "      <td>3</td>\n",
       "    </tr>\n",
       "    <tr>\n",
       "      <th>4</th>\n",
       "      <td>Eve</td>\n",
       "      <td>HR</td>\n",
       "      <td>57500.0</td>\n",
       "      <td>35.0</td>\n",
       "      <td>5000</td>\n",
       "      <td>5</td>\n",
       "    </tr>\n",
       "  </tbody>\n",
       "</table>\n",
       "</div>"
      ],
      "text/plain": [
       "      Name Department   Salary   Age  Salary_bonus  Shift_Hrs\n",
       "0    Alice         HR  50000.0  25.0          5000          5\n",
       "1      Bob         IT  60000.0   NaN          4000          4\n",
       "2  Charlie         IT  55000.0  28.0          4000          4\n",
       "3    David    Finance  65000.0  40.0          3000          3\n",
       "4      Eve         HR  57500.0  35.0          5000          5"
      ]
     },
     "execution_count": 83,
     "metadata": {},
     "output_type": "execute_result"
    }
   ],
   "source": [
    "new_df[\"Salary\"].fillna(new_df[\"Salary\"].mean(), inplace=True)\n",
    "new_df"
   ]
  },
  {
   "cell_type": "code",
   "execution_count": 84,
   "id": "7b2b4bfd-edbb-4c63-9d8e-5a9d7748b79c",
   "metadata": {},
   "outputs": [
    {
     "data": {
      "text/html": [
       "<div>\n",
       "<style scoped>\n",
       "    .dataframe tbody tr th:only-of-type {\n",
       "        vertical-align: middle;\n",
       "    }\n",
       "\n",
       "    .dataframe tbody tr th {\n",
       "        vertical-align: top;\n",
       "    }\n",
       "\n",
       "    .dataframe thead th {\n",
       "        text-align: right;\n",
       "    }\n",
       "</style>\n",
       "<table border=\"1\" class=\"dataframe\">\n",
       "  <thead>\n",
       "    <tr style=\"text-align: right;\">\n",
       "      <th></th>\n",
       "      <th>Name</th>\n",
       "      <th>Department</th>\n",
       "      <th>Salary</th>\n",
       "      <th>Age</th>\n",
       "      <th>Salary_bonus</th>\n",
       "      <th>Shift_Hrs</th>\n",
       "    </tr>\n",
       "  </thead>\n",
       "  <tbody>\n",
       "    <tr>\n",
       "      <th>0</th>\n",
       "      <td>Alice</td>\n",
       "      <td>HR</td>\n",
       "      <td>50000.0</td>\n",
       "      <td>25.0</td>\n",
       "      <td>5000</td>\n",
       "      <td>5</td>\n",
       "    </tr>\n",
       "    <tr>\n",
       "      <th>2</th>\n",
       "      <td>Charlie</td>\n",
       "      <td>IT</td>\n",
       "      <td>55000.0</td>\n",
       "      <td>28.0</td>\n",
       "      <td>4000</td>\n",
       "      <td>4</td>\n",
       "    </tr>\n",
       "    <tr>\n",
       "      <th>3</th>\n",
       "      <td>David</td>\n",
       "      <td>Finance</td>\n",
       "      <td>65000.0</td>\n",
       "      <td>40.0</td>\n",
       "      <td>3000</td>\n",
       "      <td>3</td>\n",
       "    </tr>\n",
       "    <tr>\n",
       "      <th>4</th>\n",
       "      <td>Eve</td>\n",
       "      <td>HR</td>\n",
       "      <td>57500.0</td>\n",
       "      <td>35.0</td>\n",
       "      <td>5000</td>\n",
       "      <td>5</td>\n",
       "    </tr>\n",
       "  </tbody>\n",
       "</table>\n",
       "</div>"
      ],
      "text/plain": [
       "      Name Department   Salary   Age  Salary_bonus  Shift_Hrs\n",
       "0    Alice         HR  50000.0  25.0          5000          5\n",
       "2  Charlie         IT  55000.0  28.0          4000          4\n",
       "3    David    Finance  65000.0  40.0          3000          3\n",
       "4      Eve         HR  57500.0  35.0          5000          5"
      ]
     },
     "execution_count": 84,
     "metadata": {},
     "output_type": "execute_result"
    }
   ],
   "source": [
    "#working with pandas dropna\n",
    "new_df.dropna(inplace=True)\n",
    "new_df"
   ]
  }
 ],
 "metadata": {
  "kernelspec": {
   "display_name": "Python 3 (ipykernel)",
   "language": "python",
   "name": "python3"
  },
  "language_info": {
   "codemirror_mode": {
    "name": "ipython",
    "version": 3
   },
   "file_extension": ".py",
   "mimetype": "text/x-python",
   "name": "python",
   "nbconvert_exporter": "python",
   "pygments_lexer": "ipython3",
   "version": "3.10.9"
  }
 },
 "nbformat": 4,
 "nbformat_minor": 5
}
