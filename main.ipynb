{
 "cells": [
  {
   "cell_type": "code",
   "execution_count": 25,
   "id": "e1409916-c9ab-4cf5-820b-7541196b5076",
   "metadata": {},
   "outputs": [],
   "source": [
    "# working with numpy libraries\n",
    "import numpy as np\n",
    "import pandas as pd"
   ]
  },
  {
   "cell_type": "code",
   "execution_count": 10,
   "id": "adb81663-e4f4-4b22-9cce-c94be7e2d44d",
   "metadata": {},
   "outputs": [
    {
     "name": "stdout",
     "output_type": "stream",
     "text": [
      "Array: [10 20 30 40 50]\n",
      "Number Average: 30.0\n",
      "Total number: 150\n",
      "Square of the element: [ 100  400  900 1600 2500]\n"
     ]
    }
   ],
   "source": [
    "arr = np.array([10, 20, 30, 40, 50])\n",
    "print(\"Array:\", arr)\n",
    "print(\"Number Average:\", arr.mean())\n",
    "print(\"Total number:\", arr.sum())\n",
    "print(\"Square of the element:\", arr ** 2)"
   ]
  },
  {
   "cell_type": "code",
   "execution_count": 17,
   "id": "56e4620f-498a-4aa0-bc08-173512e9e31b",
   "metadata": {},
   "outputs": [
    {
     "name": "stdout",
     "output_type": "stream",
     "text": [
      "\n",
      "Student Scores\n",
      " [[78 85 90]\n",
      " [88 92 80]\n",
      " [70 75 85]\n",
      " [95 90 88]\n",
      " [60 65 70]\n",
      " [85 80 82]\n",
      " [72 78 88]\n",
      " [90 95 92]]\n",
      "\n",
      "Average score per student\n",
      " [84.33333333 86.66666667 76.66666667 91.         65.         82.33333333\n",
      " 79.33333333 92.33333333]\n",
      "\n",
      "Average score per subject\n",
      " [79.75  82.5   84.375]\n",
      "\n",
      "Highest score per subject\n",
      " [95 95 92]\n"
     ]
    }
   ],
   "source": [
    "# woking with students score using numpy array\n",
    "scores = np.array([\n",
    "    [78, 85, 90],\n",
    "    [88, 92, 80],\n",
    "    [70, 75, 85],\n",
    "    [95, 90, 88],\n",
    "    [60, 65, 70],\n",
    "    [85, 80, 82],\n",
    "    [72, 78, 88],\n",
    "    [90, 95, 92]\n",
    "])\n",
    "\n",
    "print(\"\\nStudent Scores\\n\", scores)\n",
    "\n",
    "#Average score per student\n",
    "print(\"\\nAverage score per student\\n\", scores.mean(axis=1))\n",
    "\n",
    "#Average score per subject\n",
    "print(\"\\nAverage score per subject\\n\", scores.mean(axis=0))\n",
    "\n",
    "#Highest score per subject\n",
    "highest_score = scores.max(axis=0)\n",
    "print(\"\\nHighest score per subject\\n\", highest_score)"
   ]
  },
  {
   "cell_type": "code",
   "execution_count": 23,
   "id": "643f437d-efb8-46a8-ba4c-ecc8aaa8236e",
   "metadata": {},
   "outputs": [
    {
     "name": "stdout",
     "output_type": "stream",
     "text": [
      "\n",
      "Student science above 90\n",
      " [8]\n"
     ]
    }
   ],
   "source": [
    "science_score = scores[:, 2]\n",
    "score_above_90 = np.where(science_score > 90)[0]\n",
    "print(\"\\nStudent science above 90\\n\", score_above_90 + 1)"
   ]
  },
  {
   "cell_type": "code",
   "execution_count": 27,
   "id": "70f5eed7-1a4a-42bd-a654-eb214976a569",
   "metadata": {},
   "outputs": [
    {
     "name": "stdout",
     "output_type": "stream",
     "text": [
      "\\DataFrame\n",
      "       Name Department   Salary  Age\n",
      "0    Alice         HR  50000.0   25\n",
      "1      Bob         IT  60000.0   30\n",
      "2  Charlie         IT  55000.0   28\n",
      "3    David    Finance  65000.0   40\n",
      "4      Eve         HR      NaN   35\n"
     ]
    }
   ],
   "source": [
    "# working pandas dataframe\n",
    "#sample dataset\n",
    "data = {\n",
    "    \"Name\": [\"Alice\", \"Bob\", \"Charlie\", \"David\", \"Eve\"],\n",
    "    \"Department\": [\"HR\", \"IT\", \"IT\", \"Finance\", \"HR\"],\n",
    "    \"Salary\": [50000, 60000, 55000, 65000, np.nan],\n",
    "    \"Age\": [25, 30, 28, 40, 35]\n",
    "}\n",
    "\n",
    "df = pd.DataFrame(data)\n",
    "print(\"\\DataFrame\\n\", df)"
   ]
  },
  {
   "cell_type": "code",
   "execution_count": 29,
   "id": "749609be-2471-4576-ac79-7931152be667",
   "metadata": {},
   "outputs": [
    {
     "name": "stdout",
     "output_type": "stream",
     "text": [
      "    Name Department   Salary  Age\n",
      "3  David    Finance  65000.0   40\n",
      "4    Eve         HR      NaN   35\n"
     ]
    }
   ],
   "source": [
    "#filter employee that's greater 30\n",
    "filter_df = df[df['Age'] > 30]\n",
    "print(filter_df)"
   ]
  }
 ],
 "metadata": {
  "kernelspec": {
   "display_name": "Python 3 (ipykernel)",
   "language": "python",
   "name": "python3"
  },
  "language_info": {
   "codemirror_mode": {
    "name": "ipython",
    "version": 3
   },
   "file_extension": ".py",
   "mimetype": "text/x-python",
   "name": "python",
   "nbconvert_exporter": "python",
   "pygments_lexer": "ipython3",
   "version": "3.10.9"
  }
 },
 "nbformat": 4,
 "nbformat_minor": 5
}
